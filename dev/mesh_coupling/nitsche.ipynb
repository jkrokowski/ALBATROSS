{
 "cells": [
  {
   "cell_type": "markdown",
   "id": "sorted-rugby",
   "metadata": {},
   "source": [
    "# Weak imposition of Dirichlet conditions for the Poisson problem\n",
    "\n",
    "Author: Jørgen S. Dokken\n",
    "\n",
    "In this section, we will go through how to solve the Poisson problem from the [Fundamentals](fundamentals_code.ipynb) tutorial using Nitsche's method {cite}`Nitsche1971`.\n",
    "The idea of weak imposition is that we add additional terms to the variational formulation to impose the boundary condition, instead of modifying the matrix system using strong imposition (lifting).\n",
    "\n",
    "We start by importing the required modules and creating the mesh and function space for our solution\n"
   ]
  },
  {
   "cell_type": "code",
   "execution_count": 1,
   "id": "imposed-christopher",
   "metadata": {},
   "outputs": [],
   "source": [
    "from dolfinx import fem, mesh, plot, default_scalar_type\n",
    "from dolfinx.fem.petsc import LinearProblem\n",
    "import numpy\n",
    "from mpi4py import MPI\n",
    "from ufl import (Circumradius, FacetNormal, SpatialCoordinate, TrialFunction, TestFunction,\n",
    "                 div, dx, ds, grad, inner)\n",
    "\n",
    "N = 8\n",
    "domain = mesh.create_unit_square(MPI.COMM_WORLD, N, N)\n",
    "V = fem.FunctionSpace(domain, (\"Lagrange\", 1))"
   ]
  },
  {
   "cell_type": "markdown",
   "id": "surrounded-carrier",
   "metadata": {},
   "source": [
    "Next, we create a function containing the exact solution (which will also be used in the Dirichlet boundary condition) and the corresponding source function for the right hand side. Note that we use `ufl.SpatialCoordinate` to define the exact solution, which in turn is interpolated into `uD` and used to create the source function `f`.\n"
   ]
  },
  {
   "cell_type": "code",
   "execution_count": 2,
   "id": "quality-andorra",
   "metadata": {},
   "outputs": [],
   "source": [
    "uD = fem.Function(V)\n",
    "x = SpatialCoordinate(domain)\n",
    "u_ex =  1 + x[0]**2 + 2 * x[1]**2\n",
    "uD.interpolate(fem.Expression(u_ex, V.element.interpolation_points()))\n",
    "f = -div(grad(u_ex))"
   ]
  },
  {
   "cell_type": "markdown",
   "id": "distinguished-obligation",
   "metadata": {},
   "source": [
    "As opposed to the first tutorial, we now have to have another look at the variational form.\n",
    "We start by integrating the problem by parts, to obtain\n",
    "\\begin{align}\n",
    "\\int_{\\Omega} \\nabla u \\cdot \\nabla v~\\mathrm{d}x - \\int_{\\partial\\Omega}\\nabla u \\cdot n v~\\mathrm{d}s = \\int_{\\Omega} f v~\\mathrm{d}x.\n",
    "\\end{align}\n",
    "As we are not using strong enforcement, we do not set the trace of the test function to $0$ on the outer boundary.\n",
    "Instead, we add the following two terms to the variational formulation\n",
    "\\begin{align}\n",
    "-\\int_{\\partial\\Omega} \\nabla v \\cdot n (u-u*D)~\\mathrm{d}s + \\frac{\\alpha}{h} \\int_{\\partial\\Omega} (u-u*D)v~\\mathrm{d}s.\n",
    "\\end{align}\n",
    "where the first term enforces symmetry to the bilinear form, while the latter term enforces coercivity.\n",
    "$u_D$ is the known Dirichlet condition, and $h$ is the diameter of the circumscribed sphere of the mesh element.\n",
    "We create bilinear and linear form, $a$ and $L$\n",
    "\\begin{align}\n",
    "a(u, v) &= \\int_{\\Omega} \\nabla u \\cdot \\nabla v~\\mathrm{d}x + \\int_{\\partial\\Omega}-(n \\cdot\\nabla u) v - (n \\cdot \\nabla v) u + \\frac{\\alpha}{h} uv~\\mathrm{d}s,\\\\\n",
    "L(v) &= \\int_{\\Omega} fv~\\mathrm{d}x + \\int\\_{\\partial\\Omega} -(n \\cdot \\nabla v) u_D + \\frac{\\alpha}{h} u_Dv~\\mathrm{d}s\n",
    "\\end{align}\n"
   ]
  },
  {
   "cell_type": "code",
   "execution_count": 3,
   "id": "4b7634d9",
   "metadata": {},
   "outputs": [],
   "source": [
    "u = TrialFunction(V)\n",
    "v = TestFunction(V)\n",
    "n = FacetNormal(domain)\n",
    "h = 2 * Circumradius(domain)\n",
    "alpha = fem.Constant(domain, default_scalar_type(10))\n",
    "a = inner(grad(u), grad(v)) * dx - inner(n, grad(u)) * v * ds\n",
    "a += - inner(n, grad(v)) * u * ds + alpha / h * inner(u, v) * ds\n",
    "L = inner(f, v) * dx \n",
    "L += - inner(n, grad(v)) * uD * ds + alpha / h * inner(uD, v) * ds"
   ]
  },
  {
   "cell_type": "markdown",
   "id": "971dc391",
   "metadata": {},
   "source": [
    "As we now have the variational form, we can solve the linear problem\n"
   ]
  },
  {
   "cell_type": "code",
   "execution_count": 4,
   "id": "6187fc89",
   "metadata": {},
   "outputs": [],
   "source": [
    "problem = LinearProblem(a, L)\n",
    "uh = problem.solve()"
   ]
  },
  {
   "cell_type": "markdown",
   "id": "fac3387f",
   "metadata": {},
   "source": [
    "We compute the error of the computation by comparing it to the analytical solution\n"
   ]
  },
  {
   "cell_type": "code",
   "execution_count": 5,
   "id": "4851b7a4",
   "metadata": {},
   "outputs": [
    {
     "name": "stdout",
     "output_type": "stream",
     "text": [
      "$L^2$-error: 1.59e-03\n"
     ]
    }
   ],
   "source": [
    "error_form = fem.form(inner(uh-uD, uh-uD) * dx)\n",
    "error_local = fem.assemble_scalar(error_form)\n",
    "errorL2 = numpy.sqrt(domain.comm.allreduce(error_local, op=MPI.SUM))\n",
    "if domain.comm.rank == 0:\n",
    "    print(fr\"$L^2$-error: {errorL2:.2e}\")"
   ]
  },
  {
   "cell_type": "markdown",
   "id": "c5c43d69",
   "metadata": {},
   "source": [
    "We observe that the $L^2$-error is of the same magnitude as in the first tutorial.\n",
    "As in the previous tutorial, we also compute the maximal error for all the degrees of freedom.\n"
   ]
  },
  {
   "cell_type": "code",
   "execution_count": 6,
   "id": "b3413383",
   "metadata": {},
   "outputs": [
    {
     "name": "stdout",
     "output_type": "stream",
     "text": [
      "Error_max : 5.41e-03\n"
     ]
    }
   ],
   "source": [
    "error_max = domain.comm.allreduce(numpy.max(numpy.abs(uD.x.array-uh.x.array)), op=MPI.MAX)\n",
    "if domain.comm.rank == 0:\n",
    "    print(f\"Error_max : {error_max:.2e}\")"
   ]
  },
  {
   "cell_type": "markdown",
   "id": "f5ba8c79",
   "metadata": {},
   "source": [
    "We observe that as we weakly impose the boundary condition, we no longer fullfill the equation to machine precision at the mesh vertices. We also plot the solution using `pyvista`\n"
   ]
  },
  {
   "cell_type": "code",
   "execution_count": 7,
   "id": "b12d508e",
   "metadata": {},
   "outputs": [
    {
     "data": {
      "application/javascript": "(function(root) {\n  function now() {\n    return new Date();\n  }\n\n  var force = true;\n  var py_version = '3.2.1'.replace('rc', '-rc.').replace('.dev', '-dev.');\n  var is_dev = py_version.indexOf(\"+\") !== -1 || py_version.indexOf(\"-\") !== -1;\n  var reloading = false;\n  var Bokeh = root.Bokeh;\n  var bokeh_loaded = Bokeh != null && (Bokeh.version === py_version || (Bokeh.versions !== undefined && Bokeh.versions.has(py_version)));\n\n  if (typeof (root._bokeh_timeout) === \"undefined\" || force) {\n    root._bokeh_timeout = Date.now() + 5000;\n    root._bokeh_failed_load = false;\n  }\n\n  function run_callbacks() {\n    try {\n      root._bokeh_onload_callbacks.forEach(function(callback) {\n        if (callback != null)\n          callback();\n      });\n    } finally {\n      delete root._bokeh_onload_callbacks;\n    }\n    console.debug(\"Bokeh: all callbacks have finished\");\n  }\n\n  function load_libs(css_urls, js_urls, js_modules, js_exports, callback) {\n    if (css_urls == null) css_urls = [];\n    if (js_urls == null) js_urls = [];\n    if (js_modules == null) js_modules = [];\n    if (js_exports == null) js_exports = {};\n\n    root._bokeh_onload_callbacks.push(callback);\n\n    if (root._bokeh_is_loading > 0) {\n      console.debug(\"Bokeh: BokehJS is being loaded, scheduling callback at\", now());\n      return null;\n    }\n    if (js_urls.length === 0 && js_modules.length === 0 && Object.keys(js_exports).length === 0) {\n      run_callbacks();\n      return null;\n    }\n    if (!reloading) {\n      console.debug(\"Bokeh: BokehJS not loaded, scheduling load and callback at\", now());\n    }\n\n    function on_load() {\n      root._bokeh_is_loading--;\n      if (root._bokeh_is_loading === 0) {\n        console.debug(\"Bokeh: all BokehJS libraries/stylesheets loaded\");\n        run_callbacks()\n      }\n    }\n    window._bokeh_on_load = on_load\n\n    function on_error() {\n      console.error(\"failed to load \" + url);\n    }\n\n    var skip = [];\n    if (window.requirejs) {\n      window.requirejs.config({'packages': {}, 'paths': {'vtk': 'https://cdn.jsdelivr.net/npm/vtk.js@20.0.1/vtk', 'jspanel': 'https://cdn.jsdelivr.net/npm/jspanel4@4.12.0/dist/jspanel', 'jspanel-modal': 'https://cdn.jsdelivr.net/npm/jspanel4@4.12.0/dist/extensions/modal/jspanel.modal', 'jspanel-tooltip': 'https://cdn.jsdelivr.net/npm/jspanel4@4.12.0/dist/extensions/tooltip/jspanel.tooltip', 'jspanel-hint': 'https://cdn.jsdelivr.net/npm/jspanel4@4.12.0/dist/extensions/hint/jspanel.hint', 'jspanel-layout': 'https://cdn.jsdelivr.net/npm/jspanel4@4.12.0/dist/extensions/layout/jspanel.layout', 'jspanel-contextmenu': 'https://cdn.jsdelivr.net/npm/jspanel4@4.12.0/dist/extensions/contextmenu/jspanel.contextmenu', 'jspanel-dock': 'https://cdn.jsdelivr.net/npm/jspanel4@4.12.0/dist/extensions/dock/jspanel.dock', 'gridstack': 'https://cdn.jsdelivr.net/npm/gridstack@7.2.3/dist/gridstack-all', 'notyf': 'https://cdn.jsdelivr.net/npm/notyf@3/notyf.min'}, 'shim': {'vtk': {'exports': 'vtk'}, 'jspanel': {'exports': 'jsPanel'}, 'gridstack': {'exports': 'GridStack'}}});\n      require([\"vtk\"], function() {\n\ton_load()\n      })\n      require([\"jspanel\"], function(jsPanel) {\n\twindow.jsPanel = jsPanel\n\ton_load()\n      })\n      require([\"jspanel-modal\"], function() {\n\ton_load()\n      })\n      require([\"jspanel-tooltip\"], function() {\n\ton_load()\n      })\n      require([\"jspanel-hint\"], function() {\n\ton_load()\n      })\n      require([\"jspanel-layout\"], function() {\n\ton_load()\n      })\n      require([\"jspanel-contextmenu\"], function() {\n\ton_load()\n      })\n      require([\"jspanel-dock\"], function() {\n\ton_load()\n      })\n      require([\"gridstack\"], function(GridStack) {\n\twindow.GridStack = GridStack\n\ton_load()\n      })\n      require([\"notyf\"], function() {\n\ton_load()\n      })\n      root._bokeh_is_loading = css_urls.length + 10;\n    } else {\n      root._bokeh_is_loading = css_urls.length + js_urls.length + js_modules.length + Object.keys(js_exports).length;\n    }\n\n    var existing_stylesheets = []\n    var links = document.getElementsByTagName('link')\n    for (var i = 0; i < links.length; i++) {\n      var link = links[i]\n      if (link.href != null) {\n\texisting_stylesheets.push(link.href)\n      }\n    }\n    for (var i = 0; i < css_urls.length; i++) {\n      var url = css_urls[i];\n      if (existing_stylesheets.indexOf(url) !== -1) {\n\ton_load()\n\tcontinue;\n      }\n      const element = document.createElement(\"link\");\n      element.onload = on_load;\n      element.onerror = on_error;\n      element.rel = \"stylesheet\";\n      element.type = \"text/css\";\n      element.href = url;\n      console.debug(\"Bokeh: injecting link tag for BokehJS stylesheet: \", url);\n      document.body.appendChild(element);\n    }    if (((window['vtk'] !== undefined) && (!(window['vtk'] instanceof HTMLElement))) || window.requirejs) {\n      var urls = ['https://cdn.holoviz.org/panel/1.2.1/dist/bundled/abstractvtkplot/vtk.js@20.0.1/vtk.js'];\n      for (var i = 0; i < urls.length; i++) {\n        skip.push(urls[i])\n      }\n    }    if (((window['jsPanel'] !== undefined) && (!(window['jsPanel'] instanceof HTMLElement))) || window.requirejs) {\n      var urls = ['https://cdn.holoviz.org/panel/1.2.1/dist/bundled/floatpanel/jspanel4@4.12.0/dist/jspanel.js', 'https://cdn.holoviz.org/panel/1.2.1/dist/bundled/floatpanel/jspanel4@4.12.0/dist/extensions/modal/jspanel.modal.js', 'https://cdn.holoviz.org/panel/1.2.1/dist/bundled/floatpanel/jspanel4@4.12.0/dist/extensions/tooltip/jspanel.tooltip.js', 'https://cdn.holoviz.org/panel/1.2.1/dist/bundled/floatpanel/jspanel4@4.12.0/dist/extensions/hint/jspanel.hint.js', 'https://cdn.holoviz.org/panel/1.2.1/dist/bundled/floatpanel/jspanel4@4.12.0/dist/extensions/layout/jspanel.layout.js', 'https://cdn.holoviz.org/panel/1.2.1/dist/bundled/floatpanel/jspanel4@4.12.0/dist/extensions/contextmenu/jspanel.contextmenu.js', 'https://cdn.holoviz.org/panel/1.2.1/dist/bundled/floatpanel/jspanel4@4.12.0/dist/extensions/dock/jspanel.dock.js'];\n      for (var i = 0; i < urls.length; i++) {\n        skip.push(urls[i])\n      }\n    }    if (((window['GridStack'] !== undefined) && (!(window['GridStack'] instanceof HTMLElement))) || window.requirejs) {\n      var urls = ['https://cdn.holoviz.org/panel/1.2.1/dist/bundled/gridstack/gridstack@7.2.3/dist/gridstack-all.js'];\n      for (var i = 0; i < urls.length; i++) {\n        skip.push(urls[i])\n      }\n    }    if (((window['Notyf'] !== undefined) && (!(window['Notyf'] instanceof HTMLElement))) || window.requirejs) {\n      var urls = ['https://cdn.holoviz.org/panel/1.2.1/dist/bundled/notificationarea/notyf@3/notyf.min.js'];\n      for (var i = 0; i < urls.length; i++) {\n        skip.push(urls[i])\n      }\n    }    var existing_scripts = []\n    var scripts = document.getElementsByTagName('script')\n    for (var i = 0; i < scripts.length; i++) {\n      var script = scripts[i]\n      if (script.src != null) {\n\texisting_scripts.push(script.src)\n      }\n    }\n    for (var i = 0; i < js_urls.length; i++) {\n      var url = js_urls[i];\n      if (skip.indexOf(url) !== -1 || existing_scripts.indexOf(url) !== -1) {\n\tif (!window.requirejs) {\n\t  on_load();\n\t}\n\tcontinue;\n      }\n      var element = document.createElement('script');\n      element.onload = on_load;\n      element.onerror = on_error;\n      element.async = false;\n      element.src = url;\n      console.debug(\"Bokeh: injecting script tag for BokehJS library: \", url);\n      document.head.appendChild(element);\n    }\n    for (var i = 0; i < js_modules.length; i++) {\n      var url = js_modules[i];\n      if (skip.indexOf(url) !== -1 || existing_scripts.indexOf(url) !== -1) {\n\tif (!window.requirejs) {\n\t  on_load();\n\t}\n\tcontinue;\n      }\n      var element = document.createElement('script');\n      element.onload = on_load;\n      element.onerror = on_error;\n      element.async = false;\n      element.src = url;\n      element.type = \"module\";\n      console.debug(\"Bokeh: injecting script tag for BokehJS library: \", url);\n      document.head.appendChild(element);\n    }\n    for (const name in js_exports) {\n      var url = js_exports[name];\n      if (skip.indexOf(url) >= 0 || root[name] != null) {\n\tif (!window.requirejs) {\n\t  on_load();\n\t}\n\tcontinue;\n      }\n      var element = document.createElement('script');\n      element.onerror = on_error;\n      element.async = false;\n      element.type = \"module\";\n      console.debug(\"Bokeh: injecting script tag for BokehJS library: \", url);\n      element.textContent = `\n      import ${name} from \"${url}\"\n      window.${name} = ${name}\n      window._bokeh_on_load()\n      `\n      document.head.appendChild(element);\n    }\n    if (!js_urls.length && !js_modules.length) {\n      on_load()\n    }\n  };\n\n  function inject_raw_css(css) {\n    const element = document.createElement(\"style\");\n    element.appendChild(document.createTextNode(css));\n    document.body.appendChild(element);\n  }\n\n  var js_urls = [\"https://cdn.holoviz.org/panel/1.2.1/dist/bundled/abstractvtkplot/vtk.js@20.0.1/vtk.js\", \"https://cdn.bokeh.org/bokeh/release/bokeh-3.2.1.min.js\", \"https://cdn.bokeh.org/bokeh/release/bokeh-gl-3.2.1.min.js\", \"https://cdn.bokeh.org/bokeh/release/bokeh-widgets-3.2.1.min.js\", \"https://cdn.bokeh.org/bokeh/release/bokeh-tables-3.2.1.min.js\", \"https://cdn.holoviz.org/panel/1.2.1/dist/panel.min.js\"];\n  var js_modules = [];\n  var js_exports = {};\n  var css_urls = [];\n  var inline_js = [    function(Bokeh) {\n      Bokeh.set_log_level(\"info\");\n    },\nfunction(Bokeh) {} // ensure no trailing comma for IE\n  ];\n\n  function run_inline_js() {\n    if ((root.Bokeh !== undefined) || (force === true)) {\n      for (var i = 0; i < inline_js.length; i++) {\n        inline_js[i].call(root, root.Bokeh);\n      }\n      // Cache old bokeh versions\n      if (Bokeh != undefined && !reloading) {\n\tvar NewBokeh = root.Bokeh;\n\tif (Bokeh.versions === undefined) {\n\t  Bokeh.versions = new Map();\n\t}\n\tif (NewBokeh.version !== Bokeh.version) {\n\t  Bokeh.versions.set(NewBokeh.version, NewBokeh)\n\t}\n\troot.Bokeh = Bokeh;\n      }} else if (Date.now() < root._bokeh_timeout) {\n      setTimeout(run_inline_js, 100);\n    } else if (!root._bokeh_failed_load) {\n      console.log(\"Bokeh: BokehJS failed to load within specified timeout.\");\n      root._bokeh_failed_load = true;\n    }\n    root._bokeh_is_initializing = false\n  }\n\n  function load_or_wait() {\n    // Implement a backoff loop that tries to ensure we do not load multiple\n    // versions of Bokeh and its dependencies at the same time.\n    // In recent versions we use the root._bokeh_is_initializing flag\n    // to determine whether there is an ongoing attempt to initialize\n    // bokeh, however for backward compatibility we also try to ensure\n    // that we do not start loading a newer (Panel>=1.0 and Bokeh>3) version\n    // before older versions are fully initialized.\n    if (root._bokeh_is_initializing && Date.now() > root._bokeh_timeout) {\n      root._bokeh_is_initializing = false;\n      root._bokeh_onload_callbacks = undefined;\n      console.log(\"Bokeh: BokehJS was loaded multiple times but one version failed to initialize.\");\n      load_or_wait();\n    } else if (root._bokeh_is_initializing || (typeof root._bokeh_is_initializing === \"undefined\" && root._bokeh_onload_callbacks !== undefined)) {\n      setTimeout(load_or_wait, 100);\n    } else {\n      Bokeh = root.Bokeh;\n      bokeh_loaded = Bokeh != null && (Bokeh.version === py_version || (Bokeh.versions !== undefined && Bokeh.versions.has(py_version)));\n      root._bokeh_is_initializing = true\n      root._bokeh_onload_callbacks = []\n      if (!reloading && (!bokeh_loaded || is_dev)) {\n\troot.Bokeh = undefined;\n      }\n      load_libs(css_urls, js_urls, js_modules, js_exports, function() {\n\tconsole.debug(\"Bokeh: BokehJS plotting callback run at\", now());\n\trun_inline_js();\n      });\n    }\n  }\n  // Give older versions of the autoload script a head-start to ensure\n  // they initialize before we start loading newer version.\n  setTimeout(load_or_wait, 100)\n}(window));",
      "application/vnd.holoviews_load.v0+json": ""
     },
     "metadata": {},
     "output_type": "display_data"
    },
    {
     "data": {
      "application/javascript": "\nif ((window.PyViz === undefined) || (window.PyViz instanceof HTMLElement)) {\n  window.PyViz = {comms: {}, comm_status:{}, kernels:{}, receivers: {}, plot_index: []}\n}\n\n\n    function JupyterCommManager() {\n    }\n\n    JupyterCommManager.prototype.register_target = function(plot_id, comm_id, msg_handler) {\n      if (window.comm_manager || ((window.Jupyter !== undefined) && (Jupyter.notebook.kernel != null))) {\n        var comm_manager = window.comm_manager || Jupyter.notebook.kernel.comm_manager;\n        comm_manager.register_target(comm_id, function(comm) {\n          comm.on_msg(msg_handler);\n        });\n      } else if ((plot_id in window.PyViz.kernels) && (window.PyViz.kernels[plot_id])) {\n        window.PyViz.kernels[plot_id].registerCommTarget(comm_id, function(comm) {\n          comm.onMsg = msg_handler;\n        });\n      } else if (typeof google != 'undefined' && google.colab.kernel != null) {\n        google.colab.kernel.comms.registerTarget(comm_id, (comm) => {\n          var messages = comm.messages[Symbol.asyncIterator]();\n          function processIteratorResult(result) {\n            var message = result.value;\n            console.log(message)\n            var content = {data: message.data, comm_id};\n            var buffers = []\n            for (var buffer of message.buffers || []) {\n              buffers.push(new DataView(buffer))\n            }\n            var metadata = message.metadata || {};\n            var msg = {content, buffers, metadata}\n            msg_handler(msg);\n            return messages.next().then(processIteratorResult);\n          }\n          return messages.next().then(processIteratorResult);\n        })\n      }\n    }\n\n    JupyterCommManager.prototype.get_client_comm = function(plot_id, comm_id, msg_handler) {\n      if (comm_id in window.PyViz.comms) {\n        return window.PyViz.comms[comm_id];\n      } else if (window.comm_manager || ((window.Jupyter !== undefined) && (Jupyter.notebook.kernel != null))) {\n        var comm_manager = window.comm_manager || Jupyter.notebook.kernel.comm_manager;\n        var comm = comm_manager.new_comm(comm_id, {}, {}, {}, comm_id);\n        if (msg_handler) {\n          comm.on_msg(msg_handler);\n        }\n      } else if ((plot_id in window.PyViz.kernels) && (window.PyViz.kernels[plot_id])) {\n        var comm = window.PyViz.kernels[plot_id].connectToComm(comm_id);\n        comm.open();\n        if (msg_handler) {\n          comm.onMsg = msg_handler;\n        }\n      } else if (typeof google != 'undefined' && google.colab.kernel != null) {\n        var comm_promise = google.colab.kernel.comms.open(comm_id)\n        comm_promise.then((comm) => {\n          window.PyViz.comms[comm_id] = comm;\n          if (msg_handler) {\n            var messages = comm.messages[Symbol.asyncIterator]();\n            function processIteratorResult(result) {\n              var message = result.value;\n              var content = {data: message.data};\n              var metadata = message.metadata || {comm_id};\n              var msg = {content, metadata}\n              msg_handler(msg);\n              return messages.next().then(processIteratorResult);\n            }\n            return messages.next().then(processIteratorResult);\n          }\n        }) \n        var sendClosure = (data, metadata, buffers, disposeOnDone) => {\n          return comm_promise.then((comm) => {\n            comm.send(data, metadata, buffers, disposeOnDone);\n          });\n        };\n        var comm = {\n          send: sendClosure\n        };\n      }\n      window.PyViz.comms[comm_id] = comm;\n      return comm;\n    }\n    window.PyViz.comm_manager = new JupyterCommManager();\n    \n\n\nvar JS_MIME_TYPE = 'application/javascript';\nvar HTML_MIME_TYPE = 'text/html';\nvar EXEC_MIME_TYPE = 'application/vnd.holoviews_exec.v0+json';\nvar CLASS_NAME = 'output';\n\n/**\n * Render data to the DOM node\n */\nfunction render(props, node) {\n  var div = document.createElement(\"div\");\n  var script = document.createElement(\"script\");\n  node.appendChild(div);\n  node.appendChild(script);\n}\n\n/**\n * Handle when a new output is added\n */\nfunction handle_add_output(event, handle) {\n  var output_area = handle.output_area;\n  var output = handle.output;\n  if ((output.data == undefined) || (!output.data.hasOwnProperty(EXEC_MIME_TYPE))) {\n    return\n  }\n  var id = output.metadata[EXEC_MIME_TYPE][\"id\"];\n  var toinsert = output_area.element.find(\".\" + CLASS_NAME.split(' ')[0]);\n  if (id !== undefined) {\n    var nchildren = toinsert.length;\n    var html_node = toinsert[nchildren-1].children[0];\n    html_node.innerHTML = output.data[HTML_MIME_TYPE];\n    var scripts = [];\n    var nodelist = html_node.querySelectorAll(\"script\");\n    for (var i in nodelist) {\n      if (nodelist.hasOwnProperty(i)) {\n        scripts.push(nodelist[i])\n      }\n    }\n\n    scripts.forEach( function (oldScript) {\n      var newScript = document.createElement(\"script\");\n      var attrs = [];\n      var nodemap = oldScript.attributes;\n      for (var j in nodemap) {\n        if (nodemap.hasOwnProperty(j)) {\n          attrs.push(nodemap[j])\n        }\n      }\n      attrs.forEach(function(attr) { newScript.setAttribute(attr.name, attr.value) });\n      newScript.appendChild(document.createTextNode(oldScript.innerHTML));\n      oldScript.parentNode.replaceChild(newScript, oldScript);\n    });\n    if (JS_MIME_TYPE in output.data) {\n      toinsert[nchildren-1].children[1].textContent = output.data[JS_MIME_TYPE];\n    }\n    output_area._hv_plot_id = id;\n    if ((window.Bokeh !== undefined) && (id in Bokeh.index)) {\n      window.PyViz.plot_index[id] = Bokeh.index[id];\n    } else {\n      window.PyViz.plot_index[id] = null;\n    }\n  } else if (output.metadata[EXEC_MIME_TYPE][\"server_id\"] !== undefined) {\n    var bk_div = document.createElement(\"div\");\n    bk_div.innerHTML = output.data[HTML_MIME_TYPE];\n    var script_attrs = bk_div.children[0].attributes;\n    for (var i = 0; i < script_attrs.length; i++) {\n      toinsert[toinsert.length - 1].childNodes[1].setAttribute(script_attrs[i].name, script_attrs[i].value);\n    }\n    // store reference to server id on output_area\n    output_area._bokeh_server_id = output.metadata[EXEC_MIME_TYPE][\"server_id\"];\n  }\n}\n\n/**\n * Handle when an output is cleared or removed\n */\nfunction handle_clear_output(event, handle) {\n  var id = handle.cell.output_area._hv_plot_id;\n  var server_id = handle.cell.output_area._bokeh_server_id;\n  if (((id === undefined) || !(id in PyViz.plot_index)) && (server_id !== undefined)) { return; }\n  var comm = window.PyViz.comm_manager.get_client_comm(\"hv-extension-comm\", \"hv-extension-comm\", function () {});\n  if (server_id !== null) {\n    comm.send({event_type: 'server_delete', 'id': server_id});\n    return;\n  } else if (comm !== null) {\n    comm.send({event_type: 'delete', 'id': id});\n  }\n  delete PyViz.plot_index[id];\n  if ((window.Bokeh !== undefined) & (id in window.Bokeh.index)) {\n    var doc = window.Bokeh.index[id].model.document\n    doc.clear();\n    const i = window.Bokeh.documents.indexOf(doc);\n    if (i > -1) {\n      window.Bokeh.documents.splice(i, 1);\n    }\n  }\n}\n\n/**\n * Handle kernel restart event\n */\nfunction handle_kernel_cleanup(event, handle) {\n  delete PyViz.comms[\"hv-extension-comm\"];\n  window.PyViz.plot_index = {}\n}\n\n/**\n * Handle update_display_data messages\n */\nfunction handle_update_output(event, handle) {\n  handle_clear_output(event, {cell: {output_area: handle.output_area}})\n  handle_add_output(event, handle)\n}\n\nfunction register_renderer(events, OutputArea) {\n  function append_mime(data, metadata, element) {\n    // create a DOM node to render to\n    var toinsert = this.create_output_subarea(\n    metadata,\n    CLASS_NAME,\n    EXEC_MIME_TYPE\n    );\n    this.keyboard_manager.register_events(toinsert);\n    // Render to node\n    var props = {data: data, metadata: metadata[EXEC_MIME_TYPE]};\n    render(props, toinsert[0]);\n    element.append(toinsert);\n    return toinsert\n  }\n\n  events.on('output_added.OutputArea', handle_add_output);\n  events.on('output_updated.OutputArea', handle_update_output);\n  events.on('clear_output.CodeCell', handle_clear_output);\n  events.on('delete.Cell', handle_clear_output);\n  events.on('kernel_ready.Kernel', handle_kernel_cleanup);\n\n  OutputArea.prototype.register_mime_type(EXEC_MIME_TYPE, append_mime, {\n    safe: true,\n    index: 0\n  });\n}\n\nif (window.Jupyter !== undefined) {\n  try {\n    var events = require('base/js/events');\n    var OutputArea = require('notebook/js/outputarea').OutputArea;\n    if (OutputArea.prototype.mime_types().indexOf(EXEC_MIME_TYPE) == -1) {\n      register_renderer(events, OutputArea);\n    }\n  } catch(err) {\n  }\n}\n",
      "application/vnd.holoviews_load.v0+json": ""
     },
     "metadata": {},
     "output_type": "display_data"
    },
    {
     "data": {
      "text/html": [
       "<style>*[data-root-id],\n",
       "*[data-root-id] > * {\n",
       "  box-sizing: border-box;\n",
       "  font-family: var(--jp-ui-font-family);\n",
       "  font-size: var(--jp-ui-font-size1);\n",
       "  color: var(--vscode-editor-foreground, var(--jp-ui-font-color1));\n",
       "}\n",
       "\n",
       "/* Override VSCode background color */\n",
       ".cell-output-ipywidget-background:has(\n",
       "    > .cell-output-ipywidget-background > .lm-Widget > *[data-root-id]\n",
       "  ),\n",
       ".cell-output-ipywidget-background:has(> .lm-Widget > *[data-root-id]) {\n",
       "  background-color: transparent !important;\n",
       "}\n",
       "</style>"
      ]
     },
     "metadata": {},
     "output_type": "display_data"
    },
    {
     "data": {
      "application/vnd.holoviews_exec.v0+json": "",
      "text/html": [
       "<div id='323c7bee-1312-4818-8698-0250735bf20c'>\n",
       "  <div id=\"e91e76bb-759c-4d92-ab77-fbb1eebf8d98\" data-root-id=\"323c7bee-1312-4818-8698-0250735bf20c\" style=\"display: contents;\"></div>\n",
       "</div>\n",
       "<script type=\"application/javascript\">(function(root) {\n",
       "  var docs_json = {\"788282ff-a8a4-49bd-9fb6-0a41234f5e67\":{\"version\":\"3.2.1\",\"title\":\"Bokeh Application\",\"roots\":[{\"type\":\"object\",\"name\":\"panel.models.browser.BrowserInfo\",\"id\":\"323c7bee-1312-4818-8698-0250735bf20c\"},{\"type\":\"object\",\"name\":\"panel.models.comm_manager.CommManager\",\"id\":\"12f18ef9-3bba-47fe-8760-021f2815da5a\",\"attributes\":{\"plot_id\":\"323c7bee-1312-4818-8698-0250735bf20c\",\"comm_id\":\"8623ba8d70c447f98f2a526206de85ac\",\"client_comm_id\":\"297ef77263394abab8c23c939c7dcfdf\"}}],\"defs\":[{\"type\":\"model\",\"name\":\"ReactiveHTML1\"},{\"type\":\"model\",\"name\":\"FlexBox1\",\"properties\":[{\"name\":\"align_content\",\"kind\":\"Any\",\"default\":\"flex-start\"},{\"name\":\"align_items\",\"kind\":\"Any\",\"default\":\"flex-start\"},{\"name\":\"flex_direction\",\"kind\":\"Any\",\"default\":\"row\"},{\"name\":\"flex_wrap\",\"kind\":\"Any\",\"default\":\"wrap\"},{\"name\":\"justify_content\",\"kind\":\"Any\",\"default\":\"flex-start\"}]},{\"type\":\"model\",\"name\":\"FloatPanel1\",\"properties\":[{\"name\":\"config\",\"kind\":\"Any\",\"default\":{\"type\":\"map\"}},{\"name\":\"contained\",\"kind\":\"Any\",\"default\":true},{\"name\":\"position\",\"kind\":\"Any\",\"default\":\"right-top\"},{\"name\":\"offsetx\",\"kind\":\"Any\",\"default\":null},{\"name\":\"offsety\",\"kind\":\"Any\",\"default\":null},{\"name\":\"theme\",\"kind\":\"Any\",\"default\":\"primary\"},{\"name\":\"status\",\"kind\":\"Any\",\"default\":\"normalized\"}]},{\"type\":\"model\",\"name\":\"GridStack1\",\"properties\":[{\"name\":\"mode\",\"kind\":\"Any\",\"default\":\"warn\"},{\"name\":\"ncols\",\"kind\":\"Any\",\"default\":null},{\"name\":\"nrows\",\"kind\":\"Any\",\"default\":null},{\"name\":\"allow_resize\",\"kind\":\"Any\",\"default\":true},{\"name\":\"allow_drag\",\"kind\":\"Any\",\"default\":true},{\"name\":\"state\",\"kind\":\"Any\",\"default\":[]}]},{\"type\":\"model\",\"name\":\"drag1\",\"properties\":[{\"name\":\"slider_width\",\"kind\":\"Any\",\"default\":5},{\"name\":\"slider_color\",\"kind\":\"Any\",\"default\":\"black\"},{\"name\":\"value\",\"kind\":\"Any\",\"default\":50}]},{\"type\":\"model\",\"name\":\"click1\",\"properties\":[{\"name\":\"terminal_output\",\"kind\":\"Any\",\"default\":\"\"},{\"name\":\"debug_name\",\"kind\":\"Any\",\"default\":\"\"},{\"name\":\"clears\",\"kind\":\"Any\",\"default\":0}]},{\"type\":\"model\",\"name\":\"FastWrapper1\",\"properties\":[{\"name\":\"object\",\"kind\":\"Any\",\"default\":null},{\"name\":\"style\",\"kind\":\"Any\",\"default\":null}]},{\"type\":\"model\",\"name\":\"NotificationAreaBase1\",\"properties\":[{\"name\":\"js_events\",\"kind\":\"Any\",\"default\":{\"type\":\"map\"}},{\"name\":\"position\",\"kind\":\"Any\",\"default\":\"bottom-right\"},{\"name\":\"_clear\",\"kind\":\"Any\",\"default\":0}]},{\"type\":\"model\",\"name\":\"NotificationArea1\",\"properties\":[{\"name\":\"js_events\",\"kind\":\"Any\",\"default\":{\"type\":\"map\"}},{\"name\":\"notifications\",\"kind\":\"Any\",\"default\":[]},{\"name\":\"position\",\"kind\":\"Any\",\"default\":\"bottom-right\"},{\"name\":\"_clear\",\"kind\":\"Any\",\"default\":0},{\"name\":\"types\",\"kind\":\"Any\",\"default\":[{\"type\":\"map\",\"entries\":[[\"type\",\"warning\"],[\"background\",\"#ffc107\"],[\"icon\",{\"type\":\"map\",\"entries\":[[\"className\",\"fas fa-exclamation-triangle\"],[\"tagName\",\"i\"],[\"color\",\"white\"]]}]]},{\"type\":\"map\",\"entries\":[[\"type\",\"info\"],[\"background\",\"#007bff\"],[\"icon\",{\"type\":\"map\",\"entries\":[[\"className\",\"fas fa-info-circle\"],[\"tagName\",\"i\"],[\"color\",\"white\"]]}]]}]}]},{\"type\":\"model\",\"name\":\"Notification\",\"properties\":[{\"name\":\"background\",\"kind\":\"Any\",\"default\":null},{\"name\":\"duration\",\"kind\":\"Any\",\"default\":3000},{\"name\":\"icon\",\"kind\":\"Any\",\"default\":null},{\"name\":\"message\",\"kind\":\"Any\",\"default\":\"\"},{\"name\":\"notification_type\",\"kind\":\"Any\",\"default\":null},{\"name\":\"_destroyed\",\"kind\":\"Any\",\"default\":false}]},{\"type\":\"model\",\"name\":\"TemplateActions1\",\"properties\":[{\"name\":\"open_modal\",\"kind\":\"Any\",\"default\":0},{\"name\":\"close_modal\",\"kind\":\"Any\",\"default\":0}]},{\"type\":\"model\",\"name\":\"BootstrapTemplateActions1\",\"properties\":[{\"name\":\"open_modal\",\"kind\":\"Any\",\"default\":0},{\"name\":\"close_modal\",\"kind\":\"Any\",\"default\":0}]},{\"type\":\"model\",\"name\":\"MaterialTemplateActions1\",\"properties\":[{\"name\":\"open_modal\",\"kind\":\"Any\",\"default\":0},{\"name\":\"close_modal\",\"kind\":\"Any\",\"default\":0}]}]}};\n",
       "  var render_items = [{\"docid\":\"788282ff-a8a4-49bd-9fb6-0a41234f5e67\",\"roots\":{\"323c7bee-1312-4818-8698-0250735bf20c\":\"e91e76bb-759c-4d92-ab77-fbb1eebf8d98\"},\"root_ids\":[\"323c7bee-1312-4818-8698-0250735bf20c\"]}];\n",
       "  var docs = Object.values(docs_json)\n",
       "  if (!docs) {\n",
       "    return\n",
       "  }\n",
       "  const py_version = docs[0].version.replace('rc', '-rc.').replace('.dev', '-dev.')\n",
       "  const is_dev = py_version.indexOf(\"+\") !== -1 || py_version.indexOf(\"-\") !== -1\n",
       "  function embed_document(root) {\n",
       "    var Bokeh = get_bokeh(root)\n",
       "    Bokeh.embed.embed_items_notebook(docs_json, render_items);\n",
       "    for (const render_item of render_items) {\n",
       "      for (const root_id of render_item.root_ids) {\n",
       "\tconst id_el = document.getElementById(root_id)\n",
       "\tif (id_el.children.length && (id_el.children[0].className === 'bk-root')) {\n",
       "\t  const root_el = id_el.children[0]\n",
       "\t  root_el.id = root_el.id + '-rendered'\n",
       "\t}\n",
       "      }\n",
       "    }\n",
       "  }\n",
       "  function get_bokeh(root) {\n",
       "    if (root.Bokeh === undefined) {\n",
       "      return null\n",
       "    } else if (root.Bokeh.version !== py_version && !is_dev) {\n",
       "      if (root.Bokeh.versions === undefined || !root.Bokeh.versions.has(py_version)) {\n",
       "\treturn null\n",
       "      }\n",
       "      return root.Bokeh.versions.get(py_version);\n",
       "    } else if (root.Bokeh.version === py_version) {\n",
       "      return root.Bokeh\n",
       "    }\n",
       "    return null\n",
       "  }\n",
       "  function is_loaded(root) {\n",
       "    var Bokeh = get_bokeh(root)\n",
       "    return (Bokeh != null && Bokeh.Panel !== undefined && ( root['vtk'] !== undefined) && ( root['vtk'] !== undefined))\n",
       "  }\n",
       "  if (is_loaded(root)) {\n",
       "    embed_document(root);\n",
       "  } else {\n",
       "    var attempts = 0;\n",
       "    var timer = setInterval(function(root) {\n",
       "      if (is_loaded(root)) {\n",
       "        clearInterval(timer);\n",
       "        embed_document(root);\n",
       "      } else if (document.readyState == \"complete\") {\n",
       "        attempts++;\n",
       "        if (attempts > 200) {\n",
       "          clearInterval(timer);\n",
       "\t  var Bokeh = get_bokeh(root)\n",
       "\t  if (Bokeh == null || Bokeh.Panel == null) {\n",
       "            console.warn(\"Panel: ERROR: Unable to run Panel code because Bokeh or Panel library is missing\");\n",
       "\t  } else {\n",
       "\t    console.warn(\"Panel: WARNING: Attempting to render but not all required libraries could be resolved.\")\n",
       "\t    embed_document(root)\n",
       "\t  }\n",
       "        }\n",
       "      }\n",
       "    }, 25, root)\n",
       "  }\n",
       "})(window);</script>"
      ]
     },
     "metadata": {
      "application/vnd.holoviews_exec.v0+json": {
       "id": "323c7bee-1312-4818-8698-0250735bf20c"
      }
     },
     "output_type": "display_data"
    },
    {
     "data": {},
     "metadata": {},
     "output_type": "display_data"
    },
    {
     "data": {
      "application/vnd.holoviews_exec.v0+json": "",
      "text/html": [
       "<div id='34268dd5-ccf9-4606-bb1d-e74f4cf7ad35'>\n",
       "  <div id=\"f0ffa37a-d083-4b88-b528-a40efdbcb2b2\" data-root-id=\"34268dd5-ccf9-4606-bb1d-e74f4cf7ad35\" style=\"display: contents;\"></div>\n",
       "</div>\n",
       "<script type=\"application/javascript\">(function(root) {\n",
       "  var docs_json = {\"5ec418ac-865b-4de8-b464-67b52fb82113\":{\"version\":\"3.2.1\",\"title\":\"Bokeh Application\",\"roots\":[{\"type\":\"object\",\"name\":\"panel.models.vtk.VTKSynchronizedPlot\",\"id\":\"34268dd5-ccf9-4606-bb1d-e74f4cf7ad35\",\"attributes\":{\"stylesheets\":[\"\\n:host(.pn-loading.pn-arc):before, .pn-loading.pn-arc:before {\\n  background-image: url(\\\"data:image/svg+xml;base64,PHN2ZyB4bWxucz0iaHR0cDovL3d3dy53My5vcmcvMjAwMC9zdmciIHN0eWxlPSJtYXJnaW46IGF1dG87IGJhY2tncm91bmQ6IG5vbmU7IGRpc3BsYXk6IGJsb2NrOyBzaGFwZS1yZW5kZXJpbmc6IGF1dG87IiB2aWV3Qm94PSIwIDAgMTAwIDEwMCIgcHJlc2VydmVBc3BlY3RSYXRpbz0ieE1pZFlNaWQiPiAgPGNpcmNsZSBjeD0iNTAiIGN5PSI1MCIgZmlsbD0ibm9uZSIgc3Ryb2tlPSIjYzNjM2MzIiBzdHJva2Utd2lkdGg9IjEwIiByPSIzNSIgc3Ryb2tlLWRhc2hhcnJheT0iMTY0LjkzMzYxNDMxMzQ2NDE1IDU2Ljk3Nzg3MTQzNzgyMTM4Ij4gICAgPGFuaW1hdGVUcmFuc2Zvcm0gYXR0cmlidXRlTmFtZT0idHJhbnNmb3JtIiB0eXBlPSJyb3RhdGUiIHJlcGVhdENvdW50PSJpbmRlZmluaXRlIiBkdXI9IjFzIiB2YWx1ZXM9IjAgNTAgNTA7MzYwIDUwIDUwIiBrZXlUaW1lcz0iMDsxIj48L2FuaW1hdGVUcmFuc2Zvcm0+ICA8L2NpcmNsZT48L3N2Zz4=\\\");\\n  background-size: auto calc(min(50%, 400px));\\n}\",{\"type\":\"object\",\"name\":\"ImportedStyleSheet\",\"id\":\"b0a47698-4066-4683-9499-47572f5c8524\",\"attributes\":{\"url\":\"https://cdn.holoviz.org/panel/1.2.1/dist/css/loading.css\"}},{\"type\":\"object\",\"name\":\"ImportedStyleSheet\",\"id\":\"caef9975-127c-4159-b9d8-ab01c71e76d4\",\"attributes\":{\"url\":\"https://cdn.holoviz.org/panel/1.2.1/dist/bundled/theme/default.css\"}},{\"type\":\"object\",\"name\":\"ImportedStyleSheet\",\"id\":\"569da638-40ef-4c2a-a9a3-bca7961d3565\",\"attributes\":{\"url\":\"https://cdn.holoviz.org/panel/1.2.1/dist/bundled/theme/native.css\"}}],\"margin\":[5,10],\"sizing_mode\":\"stretch_width\",\"align\":\"start\",\"axes\":{\"type\":\"object\",\"name\":\"panel.models.vtk.VTKAxes\",\"id\":\"1f310249-de67-4b70-b0b0-e865d476fcbb\"},\"color_mappers\":[{\"type\":\"object\",\"name\":\"LinearColorMapper\",\"id\":\"00a2e2d9-c895-4630-a0f0-95655935eab3\",\"attributes\":{\"name\":\"u\",\"palette\":[\"#440154\",\"#440255\",\"#440357\",\"#450558\",\"#45065a\",\"#45085b\",\"#46095c\",\"#460b5e\",\"#460c5f\",\"#460e61\",\"#470f62\",\"#471163\",\"#471265\",\"#471466\",\"#471567\",\"#471669\",\"#47186a\",\"#48196b\",\"#481a6c\",\"#481c6e\",\"#481d6f\",\"#481e70\",\"#482071\",\"#482172\",\"#482273\",\"#482374\",\"#472575\",\"#472676\",\"#472777\",\"#472878\",\"#472a79\",\"#472b7a\",\"#472c7b\",\"#462d7c\",\"#462f7c\",\"#46307d\",\"#46317e\",\"#45327f\",\"#45347f\",\"#453580\",\"#453681\",\"#443781\",\"#443982\",\"#433a83\",\"#433b83\",\"#433c84\",\"#423d84\",\"#423e85\",\"#424085\",\"#414186\",\"#414286\",\"#404387\",\"#404487\",\"#3f4587\",\"#3f4788\",\"#3e4888\",\"#3e4989\",\"#3d4a89\",\"#3d4b89\",\"#3d4c89\",\"#3c4d8a\",\"#3c4e8a\",\"#3b508a\",\"#3b518a\",\"#3a528b\",\"#3a538b\",\"#39548b\",\"#39558b\",\"#38568b\",\"#38578c\",\"#37588c\",\"#37598c\",\"#365a8c\",\"#365b8c\",\"#355c8c\",\"#355d8c\",\"#345e8d\",\"#345f8d\",\"#33608d\",\"#33618d\",\"#32628d\",\"#32638d\",\"#31648d\",\"#31658d\",\"#31668d\",\"#30678d\",\"#30688d\",\"#2f698d\",\"#2f6a8d\",\"#2e6b8e\",\"#2e6c8e\",\"#2e6d8e\",\"#2d6e8e\",\"#2d6f8e\",\"#2c708e\",\"#2c718e\",\"#2c728e\",\"#2b738e\",\"#2b748e\",\"#2a758e\",\"#2a768e\",\"#2a778e\",\"#29788e\",\"#29798e\",\"#287a8e\",\"#287a8e\",\"#287b8e\",\"#277c8e\",\"#277d8e\",\"#277e8e\",\"#267f8e\",\"#26808e\",\"#26818e\",\"#25828e\",\"#25838d\",\"#24848d\",\"#24858d\",\"#24868d\",\"#23878d\",\"#23888d\",\"#23898d\",\"#22898d\",\"#228a8d\",\"#228b8d\",\"#218c8d\",\"#218d8c\",\"#218e8c\",\"#208f8c\",\"#20908c\",\"#20918c\",\"#1f928c\",\"#1f938b\",\"#1f948b\",\"#1f958b\",\"#1f968b\",\"#1e978a\",\"#1e988a\",\"#1e998a\",\"#1e998a\",\"#1e9a89\",\"#1e9b89\",\"#1e9c89\",\"#1e9d88\",\"#1e9e88\",\"#1e9f88\",\"#1ea087\",\"#1fa187\",\"#1fa286\",\"#1fa386\",\"#20a485\",\"#20a585\",\"#21a685\",\"#21a784\",\"#22a784\",\"#23a883\",\"#23a982\",\"#24aa82\",\"#25ab81\",\"#26ac81\",\"#27ad80\",\"#28ae7f\",\"#29af7f\",\"#2ab07e\",\"#2bb17d\",\"#2cb17d\",\"#2eb27c\",\"#2fb37b\",\"#30b47a\",\"#32b57a\",\"#33b679\",\"#35b778\",\"#36b877\",\"#38b976\",\"#39b976\",\"#3bba75\",\"#3dbb74\",\"#3ebc73\",\"#40bd72\",\"#42be71\",\"#44be70\",\"#45bf6f\",\"#47c06e\",\"#49c16d\",\"#4bc26c\",\"#4dc26b\",\"#4fc369\",\"#51c468\",\"#53c567\",\"#55c666\",\"#57c665\",\"#59c764\",\"#5bc862\",\"#5ec961\",\"#60c960\",\"#62ca5f\",\"#64cb5d\",\"#67cc5c\",\"#69cc5b\",\"#6bcd59\",\"#6dce58\",\"#70ce56\",\"#72cf55\",\"#74d054\",\"#77d052\",\"#79d151\",\"#7cd24f\",\"#7ed24e\",\"#81d34c\",\"#83d34b\",\"#86d449\",\"#88d547\",\"#8bd546\",\"#8dd644\",\"#90d643\",\"#92d741\",\"#95d73f\",\"#97d83e\",\"#9ad83c\",\"#9dd93a\",\"#9fd938\",\"#a2da37\",\"#a5da35\",\"#a7db33\",\"#aadb32\",\"#addc30\",\"#afdc2e\",\"#b2dd2c\",\"#b5dd2b\",\"#b7dd29\",\"#bade27\",\"#bdde26\",\"#bfdf24\",\"#c2df22\",\"#c5df21\",\"#c7e01f\",\"#cae01e\",\"#cde01d\",\"#cfe11c\",\"#d2e11b\",\"#d4e11a\",\"#d7e219\",\"#dae218\",\"#dce218\",\"#dfe318\",\"#e1e318\",\"#e4e318\",\"#e7e419\",\"#e9e419\",\"#ece41a\",\"#eee51b\",\"#f1e51c\",\"#f3e51e\",\"#f6e61f\",\"#f8e621\",\"#fae622\",\"#fde724\"],\"low\":0.994702017305645,\"high\":3.9945881349974766}}],\"arrays\":{\"type\":\"map\",\"entries\":[[\"2c3fb5e6a2382c2ccd983c30f4490dd7\",{\"type\":\"bytes\",\"data\":\"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\"}],[\"ea1bb9aa6fe9232ac7394cfa303e98b0\",{\"type\":\"bytes\",\"data\":\"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\"}],[\"28bdde06541fcf3b21d73e53b1f1f7fa\",{\"type\":\"bytes\",\"data\":\"0uqKs+0s/D8af+8SWPP/P2kE0fQNPQBA5s+IvRjB/D/+pamAwur4PxwZUWWa+gBAdPMFBmWA+T8VXtr6XUD+P5oRYTXJKvY/Fifz3Kw6AkBEFdgJOsD2P8/i/ycyAPs/gNaEaxtgAEAe3fEl5OrzP02bSlu1+gNAoo0Gx0qA9D9pjJUUHED4P9/7SF02gP0/jb5adhkgAkAIY65R8iryP7jj/dm2OgZAZC92OFDA8j/4eg4zPQD2P8WzCI8lwPo/nfkCyiSAAEDkbYfgLGAEQE4XhEkA6/A/c17hNLP6CED/kDEeooDxP8DNzIRHQPQ/X9Xn9ECA+D/0lBO1OED+PxXF6sQ9wAJAW38xVV0gB0AR/BkXICvwPxZiY4DoOgxAdN5fkdfB8D/WuZT2eADzPzcAx685wPY/KnFYHkUA/D+2A2+ZMGABQGsvOQ9XgAVAGjUz/wdhCkCf+TJTmdTvPyxuxp/q9A9A1Qgy0up18D/wH/iRm0DyP/p9I25IgPU/GoTYiCxA+j+OF4iML0AAQCeJKXQ5IARA+lu8yWHACEBUDLYNghUOQE94+pR19fE/Gfa0IjnA9D/wZ3pjOQD5PwJAuuQ4wP4/frh4vjUAA0BZi0PaMGAHQFPUg451dQxA6QrCmXF19D+qu9gGI0D4P44JfQFJgP0/ovy7JS4gAkAoRxPUE0AGQCZ28Xp3FQtAexVIU2719z8WSRLdM8D8P2nBlEBCgAFAZ2xsDhVgBUA7cPsNePUJQGSibwtsdfw/nKMi/UUgAUD1L4J7OcAEQBPkZxN1FQlArh58BKj6AEDVxtgQk2AEQJxVXKJsdQhAInWX4RA9BEBeuVbleBYIQBgPOGax+QdA\"}],[\"ce52d598102e2756143cf4f27a0b5911\",{\"type\":\"bytes\",\"data\":\"RAFU/0QCVf9EA1f/RQVY/0UGWv9FCFv/Rglc/0YLXv9GDF//Rg5h/0cPYv9HEWP/RxJl/0cUZv9HFWf/RxZp/0cYav9IGWv/SBps/0gcbv9IHW//SB5w/0ggcf9IIXL/SCJz/0gjdP9HJXX/RyZ2/0cnd/9HKHj/Ryp5/0crev9HLHv/Ri18/0YvfP9GMH3/RjF+/0Uyf/9FNH//RTWA/0U2gf9EN4H/RDmC/0M6g/9DO4P/QzyE/0I9hP9CPoX/QkCF/0FBhv9BQob/QEOH/0BEh/8/RYf/P0eI/z5IiP8+SYn/PUqJ/z1Lif89TIn/PE2K/zxOiv87UIr/O1GK/zpSi/86U4v/OVSL/zlVi/84Vov/OFeM/zdYjP83WYz/NlqM/zZbjP81XIz/NV2M/zRejf80X43/M2CN/zNhjf8yYo3/MmON/zFkjf8xZY3/MWaN/zBnjf8waI3/L2mN/y9qjf8ua47/LmyO/y5tjv8tbo7/LW+O/yxwjv8scY7/LHKO/ytzjv8rdI7/KnWO/yp2jv8qd47/KXiO/yl5jv8oeo7/KHqO/yh7jv8nfI7/J32O/yd+jv8mf47/JoCO/yaBjv8lgo7/JYON/ySEjf8khY3/JIaN/yOHjf8jiI3/I4mN/yKJjf8iio3/IouN/yGMjf8hjYz/IY6M/yCPjP8gkIz/IJGM/x+SjP8fk4v/H5SL/x+Vi/8flov/HpeK/x6Yiv8emYr/HpmK/x6aif8em4n/HpyJ/x6diP8enoj/Hp+I/x6gh/8foYf/H6KG/x+jhv8gpIX/IKWF/yGmhf8hp4T/IqeE/yOog/8jqYL/JKqC/yWrgf8mrIH/J62A/yiuf/8pr3//KrB+/yuxff8ssX3/LrJ8/y+ze/8wtHr/MrV6/zO2ef81t3j/Nrh3/zi5dv85uXb/O7p1/z27dP8+vHP/QL1y/0K+cf9EvnD/Rb9v/0fAbv9JwW3/S8Js/03Ca/9Pw2n/UcRo/1PFZ/9Vxmb/V8Zl/1nHZP9byGL/Xslh/2DJYP9iyl//ZMtd/2fMXP9pzFv/a81Z/23OWP9wzlb/cs9V/3TQVP930FL/edFR/3zST/9+0k7/gdNM/4PTS/+G1En/iNVH/4vVRv+N1kT/kNZD/5LXQf+V1z//l9g+/5rYPP+d2Tr/n9k4/6LaN/+l2jX/p9sz/6rbMv+t3DD/r9wu/7LdLP+13Sv/t90p/7reJ/+93ib/v98k/8LfIv/F3yH/x+Af/8rgHv/N4B3/z+Ec/9LhG//U4Rr/1+IZ/9riGP/c4hj/3+MY/+HjGP/k4xj/5+QZ/+nkGf/s5Br/7uUb//HlHP/z5R7/9uYf//jmIf/65iL//eck/w==\"}]]},\"scene\":{\"type\":\"map\",\"entries\":[[\"parent\",\"eeec31f0-6af7-4420-8230-20b3bb7ecebf0x0\"],[\"id\",\"eeec31f0-6af7-4420-8230-20b3bb7ecebf0000555bf7423530\"],[\"type\",\"vtkXOpenGLRenderWindow\"],[\"properties\",{\"type\":\"map\",\"entries\":[[\"numberOfLayers\",2]]}],[\"dependencies\",[{\"type\":\"map\",\"entries\":[[\"parent\",\"eeec31f0-6af7-4420-8230-20b3bb7ecebf0000555bf7423530\"],[\"id\",\"eeec31f0-6af7-4420-8230-20b3bb7ecebf0000555bf7ebab00\"],[\"type\",\"vtkOpenGLRenderer\"],[\"properties\",{\"type\":\"map\",\"entries\":[[\"background\",[1.0,1.0,1.0]],[\"background2\",[0.2,0.2,0.2]],[\"viewport\",[0.0,0.0,1.0,1.0]],[\"twoSidedLighting\",1],[\"lightFollowCamera\",1],[\"layer\",0],[\"preserveColorBuffer\",0],[\"preserveDepthBuffer\",0],[\"nearClippingPlaneTolerance\",0.001],[\"clippingRangeExpansion\",0.5],[\"useShadows\",0],[\"useDepthPeeling\",0],[\"occlusionRatio\",0.0],[\"maximumNumberOfPeels\",4],[\"interactive\",1]]}],[\"dependencies\",[{\"type\":\"map\",\"entries\":[[\"parent\",\"eeec31f0-6af7-4420-8230-20b3bb7ecebf0000555bf7ebab00\"],[\"id\",\"0000555bf77c9b50\"],[\"type\",\"vtkOpenGLCamera\"],[\"properties\",{\"type\":\"map\",\"entries\":[[\"focalPoint\",[0.5,0.5,0.0]],[\"position\",[0.5,0.5,2.7320508075688776]],[\"viewUp\",[0.0,1.0,0.0]],[\"clippingRange\",[2.5590521887869815,2.956410296978415]]]}]]},{\"type\":\"map\",\"entries\":[[\"parent\",\"eeec31f0-6af7-4420-8230-20b3bb7ecebf0000555bf7ebab00\"],[\"id\",\"eeec31f0-6af7-4420-8230-20b3bb7ecebf0000555bf774b900\"],[\"type\",\"vtkOpenGLActor\"],[\"properties\",{\"type\":\"map\",\"entries\":[[\"visibility\",1],[\"pickable\",1],[\"dragable\",1],[\"useBounds\",true],[\"origin\",[0.0,0.0,0.0]],[\"position\",[0.0,0.0,0.0]],[\"scale\",[1.0,1.0,1.0]],[\"orientation\",[0.0,-0.0,0.0]],[\"forceOpaque\",false],[\"forceTranslucent\",false]]}],[\"calls\",[[\"setMapper\",[\"instance:${eeec31f0-6af7-4420-8230-20b3bb7ecebf0000555bf733ff30}\"]],[\"setProperty\",[\"instance:${eeec31f0-6af7-4420-8230-20b3bb7ecebf0000555bf803e620}\"]]]],[\"dependencies\",[{\"type\":\"map\",\"entries\":[[\"parent\",\"eeec31f0-6af7-4420-8230-20b3bb7ecebf0000555bf774b900\"],[\"id\",\"eeec31f0-6af7-4420-8230-20b3bb7ecebf0000555bf733ff30\"],[\"properties\",{\"type\":\"map\",\"entries\":[[\"resolveCoincidentTopology\",0],[\"renderTime\",0.0],[\"arrayAccessMode\",1],[\"scalarRange\",[0.994702017305645,3.9945881349974766]],[\"useLookupTableScalarRange\",0],[\"scalarVisibility\",1],[\"colorByArrayName\",null],[\"colorMode\",1],[\"scalarMode\",1],[\"interpolateScalarsBeforeMapping\",1]]}],[\"calls\",[[\"setInputData\",[\"instance:${eeec31f0-6af7-4420-8230-20b3bb7ecebf0000555bf733ff30-dataset-0}\",0]],[\"setLookupTable\",[\"instance:${eeec31f0-6af7-4420-8230-20b3bb7ecebf0000555bf74f15f0}\"]]]],[\"dependencies\",[{\"type\":\"map\",\"entries\":[[\"parent\",\"eeec31f0-6af7-4420-8230-20b3bb7ecebf0000555bf733ff30\"],[\"id\",\"eeec31f0-6af7-4420-8230-20b3bb7ecebf0000555bf733ff30-dataset-0\"],[\"type\",\"vtkPolyData\"],[\"properties\",{\"type\":\"map\",\"entries\":[[\"points\",{\"type\":\"map\",\"entries\":[[\"hash\",\"2c3fb5e6a2382c2ccd983c30f4490dd7\"],[\"vtkClass\",\"vtkPoints\"],[\"name\",\"Points\"],[\"dataType\",\"Float64Array\"],[\"numberOfComponents\",3],[\"size\",243],[\"ranges\",[{\"type\":\"map\",\"entries\":[[\"min\",-2.6927850894701087e-18],[\"max\",1.0],[\"component\",null]]},{\"type\":\"map\",\"entries\":[[\"min\",-2.6927850894701087e-18],[\"max\",1.0],[\"component\",null]]},{\"type\":\"map\",\"entries\":[[\"min\",0.0],[\"max\",0.0],[\"component\",null]]},{\"type\":\"map\",\"entries\":[[\"min\",3.808173194084676e-18],[\"max\",1.414213562373095],[\"component\",null]]}]]]}],[\"polys\",{\"type\":\"map\",\"entries\":[[\"hash\",\"ea1bb9aa6fe9232ac7394cfa303e98b0\"],[\"vtkClass\",\"vtkCellArray\"],[\"name\",null],[\"dataType\",\"Uint32Array\"],[\"numberOfComponents\",1],[\"size\",512],[\"ranges\",[{\"type\":\"map\",\"entries\":[[\"min\",0.0],[\"max\",80.0],[\"component\",null]]}]]]}],[\"fields\",[{\"type\":\"map\",\"entries\":[[\"hash\",\"28bdde06541fcf3b21d73e53b1f1f7fa\"],[\"vtkClass\",\"vtkDataArray\"],[\"name\",\"u\"],[\"dataType\",\"Float64Array\"],[\"numberOfComponents\",1],[\"size\",81],[\"ranges\",[{\"type\":\"map\",\"entries\":[[\"min\",0.994702017305645],[\"max\",3.9945881349974766],[\"component\",null]]}]],[\"location\",\"pointData\"],[\"registration\",\"setScalars\"]]}]]]}]]},{\"type\":\"map\",\"entries\":[[\"parent\",\"eeec31f0-6af7-4420-8230-20b3bb7ecebf0000555bf733ff30\"],[\"id\",\"eeec31f0-6af7-4420-8230-20b3bb7ecebf0000555bf74f15f0\"],[\"type\",\"vtkLookupTable\"],[\"properties\",{\"type\":\"map\",\"entries\":[[\"numberOfColors\",256],[\"valueRange\",[0.994702017305645,3.9945881349974766]],[\"range\",[0.994702017305645,3.9945881349974766]],[\"hueRange\",[0.5,0]],[\"saturationRange\",[1.0,1.0]],[\"nanColor\",[0.6627450980392157,0.6627450980392157,0.6627450980392157,1.0]],[\"belowRangeColor\",[0.0,0.0,0.0,1.0]],[\"aboveRangeColor\",[1.0,1.0,1.0,1.0]],[\"useAboveRangeColor\",false],[\"useBelowRangeColor\",false],[\"alpha\",1.0],[\"vectorSize\",-1],[\"vectorComponent\",0],[\"vectorMode\",1],[\"indexedLookup\",0]]}],[\"arrays\",[{\"type\":\"map\",\"entries\":[[\"hash\",\"ce52d598102e2756143cf4f27a0b5911\"],[\"vtkClass\",\"vtkDataArray\"],[\"name\",null],[\"dataType\",\"Uint8Array\"],[\"numberOfComponents\",4],[\"size\",1024],[\"ranges\",[{\"type\":\"map\",\"entries\":[[\"min\",30.0],[\"max\",253.0],[\"component\",null]]},{\"type\":\"map\",\"entries\":[[\"min\",1.0],[\"max\",231.0],[\"component\",null]]},{\"type\":\"map\",\"entries\":[[\"min\",24.0],[\"max\",142.0],[\"component\",null]]},{\"type\":\"map\",\"entries\":[[\"min\",255.0],[\"max\",255.0],[\"component\",null]]},{\"type\":\"map\",\"entries\":[[\"min\",276.95848064285735],[\"max\",428.5918804643877],[\"component\",null]]}]],[\"registration\",\"setTable\"]]}]]]}]],[\"type\",\"vtkDataSetMapper\"]]},{\"type\":\"map\",\"entries\":[[\"parent\",\"eeec31f0-6af7-4420-8230-20b3bb7ecebf0000555bf774b900\"],[\"id\",\"eeec31f0-6af7-4420-8230-20b3bb7ecebf0000555bf803e620\"],[\"type\",\"vtkOpenGLProperty\"],[\"properties\",{\"type\":\"map\",\"entries\":[[\"representation\",2],[\"diffuseColor\",[0.6784313725490196,0.8470588235294118,0.9019607843137255]],[\"color\",[0.6784313725490196,0.8470588235294118,0.9019607843137255]],[\"ambientColor\",[0.6784313725490196,0.8470588235294118,0.9019607843137255]],[\"specularColor\",[0.6784313725490196,0.8470588235294118,0.9019607843137255]],[\"edgeColor\",[0.0,0.0,0.0]],[\"ambient\",0.0],[\"diffuse\",1.0],[\"specular\",0.0],[\"specularPower\",100.0],[\"opacity\",1.0],[\"interpolation\",0],[\"edgeVisibility\",1],[\"backfaceCulling\",0],[\"frontfaceCulling\",0],[\"pointSize\",5.0],[\"lineWidth\",1.0],[\"lighting\",1]]}]]}]]]}]],[\"calls\",[[\"setActiveCamera\",[\"instance:${0000555bf77c9b50}\"]],[\"addViewProp\",[\"instance:${eeec31f0-6af7-4420-8230-20b3bb7ecebf0000555bf774b900}\"]]]]]},{\"type\":\"map\",\"entries\":[[\"parent\",\"eeec31f0-6af7-4420-8230-20b3bb7ecebf0000555bf7423530\"],[\"id\",\"eeec31f0-6af7-4420-8230-20b3bb7ecebf0000555bf7ef1d20\"],[\"type\",\"vtkOpenGLRenderer\"],[\"properties\",{\"type\":\"map\",\"entries\":[[\"background\",[1.0,1.0,1.0]],[\"background2\",[0.2,0.2,0.2]],[\"viewport\",[0.0,0.0,1.0,1.0]],[\"twoSidedLighting\",1],[\"lightFollowCamera\",1],[\"layer\",1],[\"preserveColorBuffer\",1],[\"preserveDepthBuffer\",0],[\"nearClippingPlaneTolerance\",0.0],[\"clippingRangeExpansion\",0.5],[\"useShadows\",0],[\"useDepthPeeling\",0],[\"occlusionRatio\",0.0],[\"maximumNumberOfPeels\",4],[\"interactive\",0]]}],[\"dependencies\",[{\"type\":\"map\",\"entries\":[[\"parent\",\"eeec31f0-6af7-4420-8230-20b3bb7ecebf0000555bf7ef1d20\"],[\"id\",\"0000555bf7f00800\"],[\"type\",\"vtkOpenGLCamera\"],[\"properties\",{\"type\":\"map\",\"entries\":[[\"focalPoint\",[0.0,0.0,0.0]],[\"position\",[0.0,0.0,1.0]],[\"viewUp\",[0.0,1.0,0.0]],[\"clippingRange\",[0.01,1000.01]]]}]]}]],[\"calls\",[[\"setActiveCamera\",[\"instance:${0000555bf7f00800}\"]]]]]}]],[\"calls\",[[\"addRenderer\",[\"instance:${eeec31f0-6af7-4420-8230-20b3bb7ecebf0000555bf7ebab00}\"]],[\"addRenderer\",[\"instance:${eeec31f0-6af7-4420-8230-20b3bb7ecebf0000555bf7ef1d20}\"]]]],[\"mtime\",8380]]}}},{\"type\":\"object\",\"name\":\"panel.models.comm_manager.CommManager\",\"id\":\"265d045b-2f8f-4456-9424-1ce8681aa3ec\",\"attributes\":{\"plot_id\":\"34268dd5-ccf9-4606-bb1d-e74f4cf7ad35\",\"comm_id\":\"db3473375ab34807870a93a48f342f1b\",\"client_comm_id\":\"b851debbce144a54b36962795b13d888\"}}],\"defs\":[{\"type\":\"model\",\"name\":\"ReactiveHTML1\"},{\"type\":\"model\",\"name\":\"FlexBox1\",\"properties\":[{\"name\":\"align_content\",\"kind\":\"Any\",\"default\":\"flex-start\"},{\"name\":\"align_items\",\"kind\":\"Any\",\"default\":\"flex-start\"},{\"name\":\"flex_direction\",\"kind\":\"Any\",\"default\":\"row\"},{\"name\":\"flex_wrap\",\"kind\":\"Any\",\"default\":\"wrap\"},{\"name\":\"justify_content\",\"kind\":\"Any\",\"default\":\"flex-start\"}]},{\"type\":\"model\",\"name\":\"FloatPanel1\",\"properties\":[{\"name\":\"config\",\"kind\":\"Any\",\"default\":{\"type\":\"map\"}},{\"name\":\"contained\",\"kind\":\"Any\",\"default\":true},{\"name\":\"position\",\"kind\":\"Any\",\"default\":\"right-top\"},{\"name\":\"offsetx\",\"kind\":\"Any\",\"default\":null},{\"name\":\"offsety\",\"kind\":\"Any\",\"default\":null},{\"name\":\"theme\",\"kind\":\"Any\",\"default\":\"primary\"},{\"name\":\"status\",\"kind\":\"Any\",\"default\":\"normalized\"}]},{\"type\":\"model\",\"name\":\"GridStack1\",\"properties\":[{\"name\":\"mode\",\"kind\":\"Any\",\"default\":\"warn\"},{\"name\":\"ncols\",\"kind\":\"Any\",\"default\":null},{\"name\":\"nrows\",\"kind\":\"Any\",\"default\":null},{\"name\":\"allow_resize\",\"kind\":\"Any\",\"default\":true},{\"name\":\"allow_drag\",\"kind\":\"Any\",\"default\":true},{\"name\":\"state\",\"kind\":\"Any\",\"default\":[]}]},{\"type\":\"model\",\"name\":\"drag1\",\"properties\":[{\"name\":\"slider_width\",\"kind\":\"Any\",\"default\":5},{\"name\":\"slider_color\",\"kind\":\"Any\",\"default\":\"black\"},{\"name\":\"value\",\"kind\":\"Any\",\"default\":50}]},{\"type\":\"model\",\"name\":\"click1\",\"properties\":[{\"name\":\"terminal_output\",\"kind\":\"Any\",\"default\":\"\"},{\"name\":\"debug_name\",\"kind\":\"Any\",\"default\":\"\"},{\"name\":\"clears\",\"kind\":\"Any\",\"default\":0}]},{\"type\":\"model\",\"name\":\"FastWrapper1\",\"properties\":[{\"name\":\"object\",\"kind\":\"Any\",\"default\":null},{\"name\":\"style\",\"kind\":\"Any\",\"default\":null}]},{\"type\":\"model\",\"name\":\"NotificationAreaBase1\",\"properties\":[{\"name\":\"js_events\",\"kind\":\"Any\",\"default\":{\"type\":\"map\"}},{\"name\":\"position\",\"kind\":\"Any\",\"default\":\"bottom-right\"},{\"name\":\"_clear\",\"kind\":\"Any\",\"default\":0}]},{\"type\":\"model\",\"name\":\"NotificationArea1\",\"properties\":[{\"name\":\"js_events\",\"kind\":\"Any\",\"default\":{\"type\":\"map\"}},{\"name\":\"notifications\",\"kind\":\"Any\",\"default\":[]},{\"name\":\"position\",\"kind\":\"Any\",\"default\":\"bottom-right\"},{\"name\":\"_clear\",\"kind\":\"Any\",\"default\":0},{\"name\":\"types\",\"kind\":\"Any\",\"default\":[{\"type\":\"map\",\"entries\":[[\"type\",\"warning\"],[\"background\",\"#ffc107\"],[\"icon\",{\"type\":\"map\",\"entries\":[[\"className\",\"fas fa-exclamation-triangle\"],[\"tagName\",\"i\"],[\"color\",\"white\"]]}]]},{\"type\":\"map\",\"entries\":[[\"type\",\"info\"],[\"background\",\"#007bff\"],[\"icon\",{\"type\":\"map\",\"entries\":[[\"className\",\"fas fa-info-circle\"],[\"tagName\",\"i\"],[\"color\",\"white\"]]}]]}]}]},{\"type\":\"model\",\"name\":\"Notification\",\"properties\":[{\"name\":\"background\",\"kind\":\"Any\",\"default\":null},{\"name\":\"duration\",\"kind\":\"Any\",\"default\":3000},{\"name\":\"icon\",\"kind\":\"Any\",\"default\":null},{\"name\":\"message\",\"kind\":\"Any\",\"default\":\"\"},{\"name\":\"notification_type\",\"kind\":\"Any\",\"default\":null},{\"name\":\"_destroyed\",\"kind\":\"Any\",\"default\":false}]},{\"type\":\"model\",\"name\":\"TemplateActions1\",\"properties\":[{\"name\":\"open_modal\",\"kind\":\"Any\",\"default\":0},{\"name\":\"close_modal\",\"kind\":\"Any\",\"default\":0}]},{\"type\":\"model\",\"name\":\"BootstrapTemplateActions1\",\"properties\":[{\"name\":\"open_modal\",\"kind\":\"Any\",\"default\":0},{\"name\":\"close_modal\",\"kind\":\"Any\",\"default\":0}]},{\"type\":\"model\",\"name\":\"MaterialTemplateActions1\",\"properties\":[{\"name\":\"open_modal\",\"kind\":\"Any\",\"default\":0},{\"name\":\"close_modal\",\"kind\":\"Any\",\"default\":0}]}]}};\n",
       "  var render_items = [{\"docid\":\"5ec418ac-865b-4de8-b464-67b52fb82113\",\"roots\":{\"34268dd5-ccf9-4606-bb1d-e74f4cf7ad35\":\"f0ffa37a-d083-4b88-b528-a40efdbcb2b2\"},\"root_ids\":[\"34268dd5-ccf9-4606-bb1d-e74f4cf7ad35\"]}];\n",
       "  var docs = Object.values(docs_json)\n",
       "  if (!docs) {\n",
       "    return\n",
       "  }\n",
       "  const py_version = docs[0].version.replace('rc', '-rc.').replace('.dev', '-dev.')\n",
       "  const is_dev = py_version.indexOf(\"+\") !== -1 || py_version.indexOf(\"-\") !== -1\n",
       "  function embed_document(root) {\n",
       "    var Bokeh = get_bokeh(root)\n",
       "    Bokeh.embed.embed_items_notebook(docs_json, render_items);\n",
       "    for (const render_item of render_items) {\n",
       "      for (const root_id of render_item.root_ids) {\n",
       "\tconst id_el = document.getElementById(root_id)\n",
       "\tif (id_el.children.length && (id_el.children[0].className === 'bk-root')) {\n",
       "\t  const root_el = id_el.children[0]\n",
       "\t  root_el.id = root_el.id + '-rendered'\n",
       "\t}\n",
       "      }\n",
       "    }\n",
       "  }\n",
       "  function get_bokeh(root) {\n",
       "    if (root.Bokeh === undefined) {\n",
       "      return null\n",
       "    } else if (root.Bokeh.version !== py_version && !is_dev) {\n",
       "      if (root.Bokeh.versions === undefined || !root.Bokeh.versions.has(py_version)) {\n",
       "\treturn null\n",
       "      }\n",
       "      return root.Bokeh.versions.get(py_version);\n",
       "    } else if (root.Bokeh.version === py_version) {\n",
       "      return root.Bokeh\n",
       "    }\n",
       "    return null\n",
       "  }\n",
       "  function is_loaded(root) {\n",
       "    var Bokeh = get_bokeh(root)\n",
       "    return (Bokeh != null && Bokeh.Panel !== undefined && ( root['vtk'] !== undefined) && ( root['vtk'] !== undefined))\n",
       "  }\n",
       "  if (is_loaded(root)) {\n",
       "    embed_document(root);\n",
       "  } else {\n",
       "    var attempts = 0;\n",
       "    var timer = setInterval(function(root) {\n",
       "      if (is_loaded(root)) {\n",
       "        clearInterval(timer);\n",
       "        embed_document(root);\n",
       "      } else if (document.readyState == \"complete\") {\n",
       "        attempts++;\n",
       "        if (attempts > 200) {\n",
       "          clearInterval(timer);\n",
       "\t  var Bokeh = get_bokeh(root)\n",
       "\t  if (Bokeh == null || Bokeh.Panel == null) {\n",
       "            console.warn(\"Panel: ERROR: Unable to run Panel code because Bokeh or Panel library is missing\");\n",
       "\t  } else {\n",
       "\t    console.warn(\"Panel: WARNING: Attempting to render but not all required libraries could be resolved.\")\n",
       "\t    embed_document(root)\n",
       "\t  }\n",
       "        }\n",
       "      }\n",
       "    }, 25, root)\n",
       "  }\n",
       "})(window);</script>"
      ],
      "text/plain": [
       "VTKRenderWindowSynchronized(vtkXOpenGLRenderWindow, color_mappers=[LinearColorMapper(id='00a...], sizing_mode='stretch_width')"
      ]
     },
     "metadata": {
      "application/vnd.holoviews_exec.v0+json": {
       "id": "34268dd5-ccf9-4606-bb1d-e74f4cf7ad35"
      }
     },
     "output_type": "display_data"
    }
   ],
   "source": [
    "import pyvista\n",
    "pyvista.start_xvfb()\n",
    "\n",
    "grid = pyvista.UnstructuredGrid(*plot.vtk_mesh(V))\n",
    "grid.point_data[\"u\"] = uh.x.array.real\n",
    "grid.set_active_scalars(\"u\")\n",
    "plotter = pyvista.Plotter()\n",
    "plotter.add_mesh(grid, show_edges=True, show_scalar_bar=True)\n",
    "plotter.view_xy()\n",
    "if not pyvista.OFF_SCREEN:\n",
    "    plotter.show()\n",
    "else:\n",
    "    figure = plotter.screenshot(\"nitsche.png\")"
   ]
  },
  {
   "cell_type": "markdown",
   "id": "choice-dealer",
   "metadata": {},
   "source": [
    "```{bibliography}\n",
    "   :filter: cited and ({\"chapter1/nitsche\"} >= docnames)\n",
    "```\n"
   ]
  },
  {
   "cell_type": "code",
   "execution_count": null,
   "id": "9f22f7f7",
   "metadata": {},
   "outputs": [],
   "source": []
  }
 ],
 "metadata": {
  "jupytext": {
   "formats": "ipynb,py:light"
  },
  "kernelspec": {
   "display_name": "Python 3 (ipykernel)",
   "language": "python",
   "name": "python3"
  },
  "language_info": {
   "codemirror_mode": {
    "name": "ipython",
    "version": 3
   },
   "file_extension": ".py",
   "mimetype": "text/x-python",
   "name": "python",
   "nbconvert_exporter": "python",
   "pygments_lexer": "ipython3",
   "version": "3.10.6"
  }
 },
 "nbformat": 4,
 "nbformat_minor": 5
}
